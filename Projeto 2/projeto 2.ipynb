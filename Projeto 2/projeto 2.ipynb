{
 "cells": [
  {
   "cell_type": "markdown",
   "metadata": {},
   "source": [
    "# Projeto 2"
   ]
  },
  {
   "cell_type": "markdown",
   "metadata": {},
   "source": [
    "**1 -** Importando as bibliotecas que serão usadas"
   ]
  },
  {
   "cell_type": "code",
   "execution_count": null,
   "metadata": {},
   "outputs": [],
   "source": [
    "import moviepy.editor as mpe\n",
    "import numpy as np"
   ]
  },
  {
   "cell_type": "markdown",
   "metadata": {},
   "source": [
    "**2 -** Abrindo o vídeo\n",
    " e salvando em uma variável"
   ]
  },
  {
   "cell_type": "code",
   "execution_count": null,
   "metadata": {},
   "outputs": [],
   "source": [
    "videoprojeto2 = mpe.VideoFileClip(\"video_projeto2.mp4\")"
   ]
  },
  {
   "cell_type": "code",
   "execution_count": null,
   "metadata": {},
   "outputs": [],
   "source": [
    "print('Tamanho:', videoprojeto2.size)\n",
    "print('FPS:', videoprojeto2.fps)\n",
    "print('Duração:', videoprojeto2.duration, 'segundos')\n",
    "print('Número de frames:', videoprojeto2.reader.nframes)"
   ]
  },
  {
   "cell_type": "markdown",
   "metadata": {},
   "source": [
    "**3 -** Invertendo a imagem no eixo a cada 20 segundos"
   ]
  },
  {
   "cell_type": "code",
   "execution_count": null,
   "metadata": {},
   "outputs": [],
   "source": [
    "def inverter_eixo(get_frame, t):\n",
    "    frame = get_frame(t)\n",
    "    if (int(t) // 20) % 2 == 1:\n",
    "        return frame[:, ::-1]\n",
    "    return frame\n",
    "\n",
    "videoprojeto2_invertido = videoprojeto2.fl(inverter_eixo)\n",
    "\n",
    "videoprojeto2_invertido.ipython_display(width=480, maxduration=132)"
   ]
  },
  {
   "cell_type": "markdown",
   "metadata": {},
   "source": [
    "**4 -** Diminuindo o som, de forma gradativa, a cada 30 segundos, de forma que os últimos 10 segundos fique em silêncio "
   ]
  },
  {
   "cell_type": "code",
   "execution_count": null,
   "metadata": {},
   "outputs": [],
   "source": [
    "def reduce_volume(t, duration):\n",
    "    intervalos = [0, 30, 60, 90, 120, duration - 10]  \n",
    "    volumes = [1.0, 0.8, 0.6, 0.4, 0.2, 0.0]  \n",
    "\n",
    "    if np.isscalar(t): \n",
    "        for i in range(len(intervalos)):\n",
    "            if t < intervalos[i]:\n",
    "                return volumes[i]\n",
    "        return volumes[-1]\n",
    "    else:\n",
    "        t = np.array(t)\n",
    "        out = np.zeros_like(t, dtype=float)\n",
    "        for i in range(len(intervalos)):\n",
    "            out = np.where((t >= intervalos[i - 1] if i > 0 else t >= 0) & (t < intervalos[i]), volumes[i], out)\n",
    "        return np.where(t >= intervalos[-1], volumes[-1], out)\n",
    "\n",
    "\n",
    "\n",
    "videoprojeto2_audio = videoprojeto2_invertido.audio\n",
    "videoprojeto2_audio_reduzido = videoprojeto2_invertido.audio.fl(\n",
    "    lambda gf, t: gf(t) * reduce_volume(t, videoprojeto2_invertido.duration)[:, np.newaxis]\n",
    ")\n",
    "\n",
    "videoprojeto2_diminuido = videoprojeto2_invertido.set_audio(videoprojeto2_audio_reduzido)\n",
    "\n",
    "videoprojeto2_diminuido.ipython_display(width=480, maxduration=132)"
   ]
  },
  {
   "cell_type": "markdown",
   "metadata": {},
   "source": [
    "**5 -** Após o primeiro minuto, 60 segundos, fazer um corte para o segundo 80"
   ]
  },
  {
   "cell_type": "code",
   "execution_count": null,
   "metadata": {},
   "outputs": [],
   "source": [
    "videoprojeto2_cortado_clip1 = videoprojeto2_diminuido.subclip(0, 60)\n",
    "videoprojeto2_cortado_clip2 = videoprojeto2_diminuido.subclip(80, videoprojeto2_diminuido.duration)\n",
    "\n",
    "videoprojeto2_cortado = mpe.concatenate_videoclips([videoprojeto2_cortado_clip1, videoprojeto2_cortado_clip2])\n",
    "\n",
    "videoprojeto2_cortado.ipython_display(width=480, maxduration=132)"
   ]
  },
  {
   "cell_type": "markdown",
   "metadata": {},
   "source": [
    "**6 -** Por fim, insira os 20 segundos cortados acima no fim do video"
   ]
  },
  {
   "cell_type": "code",
   "execution_count": null,
   "metadata": {},
   "outputs": [],
   "source": [
    "videoprojeto2_cortado_clip = videoprojeto2_diminuido.subclip(60, 80)\n",
    "videoprojeto2_final = mpe.concatenate_videoclips([videoprojeto2_cortado, videoprojeto2_cortado_clip])\n",
    "\n",
    "videoprojeto2_final.write_videofile(\"videoprojeto2_final.mp4\")\n"
   ]
  }
 ],
 "metadata": {
  "kernelspec": {
   "display_name": ".venv",
   "language": "python",
   "name": "python3"
  },
  "language_info": {
   "codemirror_mode": {
    "name": "ipython",
    "version": 3
   },
   "file_extension": ".py",
   "mimetype": "text/x-python",
   "name": "python",
   "nbconvert_exporter": "python",
   "pygments_lexer": "ipython3",
   "version": "3.12.2"
  }
 },
 "nbformat": 4,
 "nbformat_minor": 2
}
